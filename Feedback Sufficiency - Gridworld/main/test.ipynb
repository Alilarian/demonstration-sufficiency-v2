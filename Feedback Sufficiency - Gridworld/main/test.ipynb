{
 "cells": [
  {
   "cell_type": "markdown",
   "metadata": {},
   "source": [
    "## Generating E-stop data"
   ]
  },
  {
   "cell_type": "code",
   "execution_count": 1,
   "metadata": {},
   "outputs": [],
   "source": [
    "import random\n",
    "import copy\n",
    "from scipy.stats import norm\n",
    "import numpy as np\n",
    "import argparse\n",
    "import sys\n",
    "import os\n",
    "import yaml\n",
    "import logging\n",
    "\n",
    "# Get current and parent directory to handle import paths\n",
    "current = os.getcwd()\n",
    "parent = os.path.dirname(current)\n",
    "sys.path.append(parent)\n",
    "\n",
    "from env import gridworld_env2\n",
    "from agent.q_learning_agent import ValueIteration\n",
    "from reward_learning.ebirl_v2 import EBIRL\n",
    "from utils.common_helper import (calculate_percentage_optimal_actions,\n",
    "                                 compute_policy_loss_avar_bounds,\n",
    "                                 calculate_expected_value_difference)\n",
    "from utils.env_helper import print_policy\n",
    "from data_generation.generate_data import generate_random_trajectory, simulate_human_estop"
   ]
  },
  {
   "cell_type": "code",
   "execution_count": 2,
   "metadata": {},
   "outputs": [],
   "source": [
    "color_to_feature_map = {\n",
    "    \"red\": [1, 0, 0],\n",
    "    \"blue\": [0, 1, 0],\n",
    "    \"black\": [0, 0, 1]  # 'black' indicates a terminal state\n",
    "}\n",
    "\n",
    "custom_grid_features = [\n",
    "    [\"blue\", \"red\", \"blue\"],\n",
    "    [\"blue\", \"blue\", \"black\"]\n",
    "]"
   ]
  },
  {
   "cell_type": "code",
   "execution_count": 3,
   "metadata": {},
   "outputs": [],
   "source": [
    "feature_weights_list = np.load(\"grid_world_weights.npy\")"
   ]
  },
  {
   "cell_type": "code",
   "execution_count": 4,
   "metadata": {},
   "outputs": [
    {
     "name": "stdout",
     "output_type": "stream",
     "text": [
      "Generated Unit Vector: [-0.12659868 -0.9399863   0.31685727]\n"
     ]
    }
   ],
   "source": [
    "def generate_unit_vector(n=500):\n",
    "\n",
    "        while True:\n",
    "            # Generate a random 3D vector\n",
    "            w = np.random.randn(4)\n",
    "            \n",
    "            # Normalize it to make it a unit vector\n",
    "            #w /= np.linalg.norm(w)\n",
    "            sorted(w)\n",
    "            if w[3]\n",
    "            # Check conditions\n",
    "            #if 2*w[0] > w[1] and w[0] < 0 and w[1] < 0 and w[2] > 0:\n",
    "            #    return (w)\n",
    "# Generate the unit vector\n",
    "unit_vector = generate_unit_vector(n=1)\n",
    "print(\"Generated Unit Vector:\", unit_vector)"
   ]
  },
  {
   "cell_type": "code",
   "execution_count": 18,
   "metadata": {},
   "outputs": [
    {
     "name": "stdout",
     "output_type": "stream",
     "text": [
      "[-0.1893847090172638, -0.433227452503042, 0.018744262652067665]\n",
      "[-0.5942365137793248, -2.7756917790434144, 1.1029717854287309]\n",
      "[-0.15577391704700666, -0.7177625769898232, 0.000991955274554213]\n",
      "[-0.5275640745683162, -2.097421544476589, 0.2538320913598963]\n",
      "[-0.5350207318488636, -1.7123836846675087, 0.47876964028151203]\n",
      "[-0.34334806943851354, -1.5487779480633281, 0.013555302598519897]\n",
      "[-0.4823876533972692, -1.0640115676990751, 0.4516747895081699]\n",
      "[-0.7884414377634731, -1.8516540898643266, 2.192485933578525]\n",
      "[-0.2687351469327862, -0.8427383623313465, 1.1405694556232537]\n",
      "[-0.15852920759124825, -0.8157435098169674, 0.9965384027058611]\n",
      "[-0.24865559926474912, -0.7649424359034633, 0.2663481135094544]\n",
      "[-0.48849273337568055, -1.5974820284361861, 1.905976905646326]\n"
     ]
    }
   ],
   "source": [
    "feat_w = []\n",
    "for i in range(500):\n",
    "# Generate a random 3D vector\n",
    "    w = np.random.randn(3)\n",
    "    #w = sorted(w)\n",
    "    if 2*w[0] > w[1] and w[0] < 0 and w[1] < 0 and w[2] > 0:\n",
    "        feat_w.append(w)\n",
    "        print(list(w))"
   ]
  },
  {
   "cell_type": "code",
   "execution_count": 17,
   "metadata": {},
   "outputs": [
    {
     "data": {
      "text/plain": [
       "[]"
      ]
     },
     "execution_count": 17,
     "metadata": {},
     "output_type": "execute_result"
    }
   ],
   "source": [
    "feat_w"
   ]
  },
  {
   "cell_type": "code",
   "execution_count": 6,
   "metadata": {},
   "outputs": [],
   "source": [
    "#random_trajs = [generate_random_trajectory(envs[1], max_horizon=10) for i in range(50)]\n",
    "\n",
    "\n",
    "random_trajs = [[(0,1), (3,3), (4,3), (5,None)], [(0,1), (3,0), (0,1), (3,0)], \n",
    " [(0,3), (1,3), (2,1), (5,None)],\n",
    " [(0,3), (1,1), (4,3), (5,None)]]\n",
    "\n",
    "\n",
    "\n",
    "\n",
    "estops = [simulate_human_estop(envs[1], i, beta=100, gamma=1, fixed_length=None) for i in random_trajs]"
   ]
  },
  {
   "cell_type": "code",
   "execution_count": 7,
   "metadata": {},
   "outputs": [
    {
     "name": "stdout",
     "output_type": "stream",
     "text": [
      "[(0, 1), (3, 3), (4, 3), (5, None)]\n",
      "\n",
      "[(0, 1), (3, 0), (0, 1), (3, 0)]\n",
      "\n",
      "[(0, 3), (1, 3), (2, 1), (5, None)]\n",
      "\n",
      "[(0, 3), (1, 1), (4, 3), (5, None)]\n",
      "\n",
      "Loading E-stops\n",
      "([(0, 1), (3, 3), (4, 3), (5, None)], 3)\n",
      "\n",
      "([(0, 1), (3, 0), (0, 1), (3, 0)], 0)\n",
      "\n",
      "([(0, 3), (1, 3), (2, 1), (5, None)], 3)\n",
      "\n",
      "([(0, 3), (1, 1), (4, 3), (5, None)], 3)\n",
      "\n"
     ]
    }
   ],
   "source": [
    "for i in random_trajs:\n",
    "    print(i)\n",
    "    print()\n",
    "\n",
    "print(\"Loading E-stops\")\n",
    "for i in estops:\n",
    "    print(i)\n",
    "    print()"
   ]
  },
  {
   "cell_type": "code",
   "execution_count": null,
   "metadata": {},
   "outputs": [],
   "source": []
  },
  {
   "cell_type": "code",
   "execution_count": 1,
   "metadata": {},
   "outputs": [],
   "source": [
    "import random\n",
    "import copy\n",
    "from scipy.stats import norm\n",
    "import numpy as np\n",
    "import argparse\n",
    "import sys\n",
    "import os\n",
    "import yaml\n",
    "import logging\n",
    "\n",
    "# Get current and parent directory to handle import paths\n",
    "current = os.getcwd()\n",
    "parent = os.path.dirname(current)\n",
    "sys.path.append(parent)\n",
    "\n",
    "from env import gridworld_env2\n",
    "from agent.q_learning_agent import ValueIteration\n",
    "from reward_learning.ebirl_v2 import EBIRL\n",
    "from utils.common_helper import (calculate_percentage_optimal_actions,\n",
    "                                 compute_policy_loss_avar_bound,\n",
    "                                 calculate_expected_value_difference)\n",
    "from utils.env_helper import print_policy"
   ]
  },
  {
   "cell_type": "code",
   "execution_count": 61,
   "metadata": {},
   "outputs": [],
   "source": [
    "import numpy as np\n",
    "\n",
    "# Generate 50 random 3D vectors with 3 elements each from a normal distribution\n",
    "random_vectors = np.random.randn(500, 3)\n",
    "\n",
    "# Sort elements within each vector in ascending order\n",
    "sorted_vectors = np.sort(random_vectors, axis=1)\n",
    "\n",
    "# Normalize each vector to have unit length\n",
    "normalized_vectors = sorted_vectors / np.linalg.norm(sorted_vectors, axis=1, keepdims=True)\n",
    "\n",
    "# Filter vectors where the last element is positive AND the second element is negative\n",
    "filtered_vectors = normalized_vectors[(normalized_vectors[:, -1] > 0) & (normalized_vectors[:, 1] < 0)]\n",
    "\n",
    "# Print the filtered result\n",
    "np.save('grid_world_weights.npy', filtered_vectors[:50])\n",
    "\n"
   ]
  },
  {
   "cell_type": "code",
   "execution_count": 2,
   "metadata": {},
   "outputs": [],
   "source": [
    "feature_weights_list = np.load(\"grid_world_weights.npy\")"
   ]
  },
  {
   "cell_type": "code",
   "execution_count": null,
   "metadata": {},
   "outputs": [],
   "source": [
    "feature_weights_list"
   ]
  },
  {
   "cell_type": "code",
   "execution_count": 39,
   "metadata": {},
   "outputs": [],
   "source": [
    "def generate_random_trajectory(env, max_horizon=25):\n",
    "    \"\"\"\n",
    "    Generate a random trajectory of fixed length (max_horizon + 1) using random actions.\n",
    "    The state is stored as an integer index (raw_index) instead of (row, col).\n",
    "    \n",
    "    Args:\n",
    "        env: The GridWorld environment.\n",
    "        max_horizon (int): Maximum length of the trajectory.\n",
    "        \n",
    "    Returns:\n",
    "        list of (state_index, action) tuples.\n",
    "    \"\"\"\n",
    "    trajectory = []\n",
    "    obsv = env.reset()  # Reset environment and get initial observation.\n",
    "    agent_position = obsv[\"agent\"]  # [row, col]\n",
    "    terminal_states = obsv[\"terminal states\"]  # List of terminal states as indices\n",
    "\n",
    "    # Compute the raw index (integer) for the initial state.\n",
    "    state = agent_position[0] * env.columns + agent_position[1]\n",
    "\n",
    "    for step in range(max_horizon + 1):\n",
    "        # Check if the current state is terminal.\n",
    "        if state in terminal_states:\n",
    "            break  # Stop generating the trajectory if a terminal state is reached.\n",
    "\n",
    "        # Choose a random action uniformly.\n",
    "        action = np.random.choice(env.num_actions)\n",
    "\n",
    "        # Sample the next state based on transition probabilities.\n",
    "        next_state = np.random.choice(env.num_states, p=env.transitions[state][action])\n",
    "\n",
    "        # Append (current state, chosen action) to the trajectory.\n",
    "        trajectory.append((state, action))\n",
    "\n",
    "        # Update state (now directly using raw index).\n",
    "        state = next_state\n",
    "\n",
    "    return trajectory"
   ]
  },
  {
   "cell_type": "code",
   "execution_count": 40,
   "metadata": {},
   "outputs": [],
   "source": [
    "# Initialize the environment\n",
    "color_to_feature_map = {\n",
    "    \"red\": [1, 0, 0],\n",
    "    \"blue\": [0, 1, 0],\n",
    "    \"black\": [0, 0, 1]  # Terminal state\n",
    "}\n",
    "\n",
    "custom_grid_features = [\n",
    "    [\"blue\", \"red\", \"blue\"],\n",
    "    [\"blue\", \"blue\", \"black\"]\n",
    "]\n",
    "\n",
    "env = gridworld_env2.NoisyLinearRewardFeaturizedGridWorldEnv(\n",
    "    gamma=1,\n",
    "    color_to_feature_map=color_to_feature_map,\n",
    "    grid_features=custom_grid_features,\n",
    "    custom_feature_weights=[-0.69171446, -0.20751434,  0.69171446]\n",
    ")\n",
    "\n",
    "# Generate a random trajectory\n",
    "max_horizon = 5\n",
    "random_trajectory = generate_random_trajectory(env, max_horizon)\n"
   ]
  },
  {
   "cell_type": "code",
   "execution_count": null,
   "metadata": {},
   "outputs": [],
   "source": [
    "random_trajectory"
   ]
  },
  {
   "cell_type": "code",
   "execution_count": 42,
   "metadata": {},
   "outputs": [],
   "source": [
    "def simulate_human_estop(env, full_trajectory, beta=2.0, gamma=1.0, fixed_length=None):\n",
    "    \"\"\"\n",
    "    Simulates human E-stop (early stopping) behavior in a GridWorld environment and ensures all output trajectories have the same length.\n",
    "\n",
    "    Args:\n",
    "        env (NoisyLinearRewardFeaturizedGridWorldEnv): The environment instance.\n",
    "        full_trajectory (list): A full-length trajectory as [(state, action), ...].\n",
    "        beta (float): Sensitivity parameter for Boltzmann distribution.\n",
    "        gamma (float): Discount factor for cumulative rewards.\n",
    "        fixed_length (int, optional): Desired fixed length for the output trajectory. If the trajectory is shorter, the last step is repeated.\n",
    "\n",
    "    Returns:\n",
    "        tuple: (trajectory, stopping_time)\n",
    "    \"\"\"\n",
    "    cumulative_rewards = []\n",
    "    current_reward = 0\n",
    "\n",
    "    for k, (state, _) in enumerate(full_trajectory):\n",
    "        if state is None:  # Handle padding\n",
    "            break\n",
    "\n",
    "        # Compute reward for the current state using the environment function\n",
    "        reward = env.compute_reward(state)  # Now using the built-in reward function\n",
    "\n",
    "        # Discounted cumulative reward up to step k\n",
    "        current_reward += (gamma**k) * reward\n",
    "        cumulative_rewards.append(current_reward)\n",
    "\n",
    "    # Compute stopping probabilities using Boltzmann distribution\n",
    "    probabilities = np.exp(beta * np.array(cumulative_rewards))\n",
    "    probabilities /= probabilities.sum()\n",
    "\n",
    "    # Use the stopping point with the highest cumulative reward\n",
    "    t_stop = np.argmax(cumulative_rewards)\n",
    "\n",
    "    # Pad the trajectory to ensure it matches the fixed length\n",
    "    if fixed_length is not None:\n",
    "        last_step = full_trajectory[-1]\n",
    "        while len(full_trajectory) < fixed_length:\n",
    "            full_trajectory.append(last_step)\n",
    "\n",
    "    return (full_trajectory[:fixed_length] if fixed_length else full_trajectory, t_stop)\n"
   ]
  },
  {
   "cell_type": "code",
   "execution_count": 43,
   "metadata": {},
   "outputs": [],
   "source": [
    "def simulate_human_estop_v2(env, full_trajectory, beta=2.0, gamma=1.0):\n",
    "    \"\"\"\n",
    "    Simulates E-stop data based on the provided likelihood model.\n",
    "\n",
    "    Args:\n",
    "        env (NoisyLinearRewardFeaturizedGridWorldEnv): The environment instance.\n",
    "        full_trajectory (list): A full-length trajectory as [(state, action), ...].\n",
    "        beta (float): Sensitivity parameter for Boltzmann distribution.\n",
    "        gamma (float): Discount factor for cumulative rewards.\n",
    "\n",
    "    Returns:\n",
    "        tuple: (trajectory, stopping_time)\n",
    "    \"\"\"\n",
    "    traj_len = len(full_trajectory)\n",
    "\n",
    "    # Compute cumulative reward for the entire trajectory\n",
    "    traj_reward = sum(env.compute_reward(s) for s, _ in full_trajectory)\n",
    "\n",
    "    # Initialize variables\n",
    "    cumulative_rewards = []\n",
    "    probabilities = []\n",
    "\n",
    "    # Compute cumulative rewards up to each time step and probabilities\n",
    "    for t in range(traj_len):\n",
    "        # Reward up to time t\n",
    "        reward_up_to_t = sum(env.compute_reward(s) for s, _ in full_trajectory[:t+1])\n",
    "\n",
    "        # Add repeated reward for the last step\n",
    "        reward_up_to_t += (traj_len - t - 1) * env.compute_reward(full_trajectory[t][0])\n",
    "\n",
    "        # Numerator and denominator for the stopping probability\n",
    "        numerator = np.exp(beta * reward_up_to_t)\n",
    "        denominator = np.exp(beta * traj_reward) + numerator\n",
    "\n",
    "        # Compute the probability of stopping at time t\n",
    "        stop_probability = numerator / denominator\n",
    "        probabilities.append(stop_probability)\n",
    "\n",
    "    # Normalize probabilities (to ensure numerical stability)\n",
    "    probabilities = np.array(probabilities)\n",
    "    probabilities /= probabilities.sum()\n",
    "\n",
    "    # Sample stopping point t_stop from the computed probabilities\n",
    "    t_stop = np.random.choice(len(probabilities), p=probabilities)\n",
    "\n",
    "    # Return the trajectory and the stopping point\n",
    "    return (full_trajectory, t_stop)\n"
   ]
  },
  {
   "cell_type": "code",
   "execution_count": null,
   "metadata": {},
   "outputs": [],
   "source": [
    "simulate_human_estop_v2(env, full_trajectory=random_trajectory, beta=100, gamma=1.0)"
   ]
  },
  {
   "cell_type": "code",
   "execution_count": null,
   "metadata": {},
   "outputs": [],
   "source": [
    "random_trajectory"
   ]
  },
  {
   "cell_type": "code",
   "execution_count": null,
   "metadata": {},
   "outputs": [],
   "source": []
  }
 ],
 "metadata": {
  "kernelspec": {
   "display_name": "Python 3",
   "language": "python",
   "name": "python3"
  },
  "language_info": {
   "codemirror_mode": {
    "name": "ipython",
    "version": 3
   },
   "file_extension": ".py",
   "mimetype": "text/x-python",
   "name": "python",
   "nbconvert_exporter": "python",
   "pygments_lexer": "ipython3",
   "version": "3.9.19"
  }
 },
 "nbformat": 4,
 "nbformat_minor": 2
}
