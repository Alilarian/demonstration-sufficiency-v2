{
 "cells": [
  {
   "cell_type": "code",
   "execution_count": null,
   "metadata": {},
   "outputs": [],
   "source": [
    "import numpy as np\n",
    "from env_1 import Env1\n",
    "#from algos import *\n",
    "import math\n",
    "from scipy.stats import norm\n",
    "\n",
    "#np.random.seed(42)"
   ]
  },
  {
   "cell_type": "code",
   "execution_count": null,
   "metadata": {},
   "outputs": [],
   "source": [
    "def generate_proposal(prev_theta, step_size):\n",
    "\n",
    "    # Set the parameters for the 2D normal distribution\n",
    "\n",
    "\n",
    "    covariance = 0  # covariance between x and y\n",
    "\n",
    "\n",
    "    cov_matrix = [[step_size**2, covariance], [covariance, step_size**2]]\n",
    "\n",
    "    samples = np.random.multivariate_normal(prev_theta, cov_matrix, 1)[0]\n",
    "\n",
    "    return samples"
   ]
  },
  {
   "cell_type": "code",
   "execution_count": null,
   "metadata": {},
   "outputs": [],
   "source": [
    "samples = []\n",
    "\n",
    "for i in range(50):\n",
    "\n",
    "    theta1 = generate_proposal([1, 0.5], step_size=0.01)\n",
    "    samples.append(theta1)"
   ]
  },
  {
   "cell_type": "code",
   "execution_count": null,
   "metadata": {},
   "outputs": [],
   "source": [
    "import numpy as np\n",
    "import random\n",
    "\n",
    "#np.random.seed(42)\n",
    "\n",
    "def rand_demo(xi):\n",
    "    n, m = np.shape(xi)\n",
    "    xi1 = np.copy(xi)\n",
    "    for idx in range(1, n-1):\n",
    "\n",
    "        # range of workspace in each axis\n",
    "        x = np.random.uniform(0.3, 0.75)\n",
    "        y = np.random.uniform(-0.1, 0.5)\n",
    "        z = np.random.uniform(0.1, 0.6)\n",
    "        #x = np.random.uniform(0.4, 0.65)\n",
    "        #y = np.random.uniform(0, 0.3)\n",
    "        #z = np.random.uniform(0, 0.3)\n",
    "        xi1[idx, :] = np.array([x, y, z])\n",
    "    return xi1\n"
   ]
  },
  {
   "cell_type": "code",
   "execution_count": null,
   "metadata": {},
   "outputs": [],
   "source": [
    "def human_demo_2(env, xi, theta, n_samples, n_demos=10, filter=True):\n",
    "    XI = []\n",
    "    Fs = []\n",
    "    Rs = []\n",
    "    \n",
    "    best_fs = None\n",
    "    best_xi = None\n",
    "    max_reward = np.NINF\n",
    "    for idx in range(n_samples):\n",
    "        xi1 = rand_demo(xi)\n",
    "        \n",
    "        f = env.feature_count(xi1)\n",
    "\n",
    "        if (np.abs(f[0])/np.abs(f[1]) > 50) or (np.abs(f[1])/np.abs(f[0]) > 50):\n",
    "            print(\"Bad demo: \", f)\n",
    "            continue\n",
    "        \n",
    "        else:\n",
    "            print(\"Good demo: \", f)\n",
    "            R = env.reward(f, theta)\n",
    "\n",
    "            if R > max_reward:\n",
    "                max_reward = R\n",
    "                best_fs = f\n",
    "                best_xi = xi1\n",
    "\n",
    "            Rs.append(R)\n",
    "            Fs.append(f)\n",
    "            XI.append(xi1)\n",
    "\n",
    "    # Convert lists to numpy arrays\n",
    "    Rs = np.array(Rs)\n",
    "    XI = np.array(XI)\n",
    "    Fs = np.array(Fs)\n",
    "\n",
    "    # Get indices that would sort Rs in descending order\n",
    "    sorted_indices = np.argsort(Rs)[::-1]\n",
    "\n",
    "    # Sort XI, Fs, and Rs based on these indices\n",
    "    XI = XI[sorted_indices]\n",
    "    Fs = Fs[sorted_indices]\n",
    "    Rs = Rs[sorted_indices]\n",
    "\n",
    "    # Return the top n_demos (default is 10) elements with the highest R\n",
    "    top_XI = XI[:n_demos]\n",
    "    top_Fs = Fs[:n_demos]\n",
    "    top_Rs = Rs[:n_demos]\n",
    "\n",
    "    return top_XI, best_xi, top_Fs, best_fs"
   ]
  },
  {
   "cell_type": "code",
   "execution_count": null,
   "metadata": {},
   "outputs": [],
   "source": [
    "num_generated_demos = 100\n",
    "\n",
    "num_demonstrations = 10\n",
    "beta = 0.1\n",
    "\n",
    "start_position = np.array([0.4, 0.0, 0.25])\n",
    "goal_position = np.array([0.75, 0.0, 0.1])\n",
    "xi0 = np.linspace(start_position, goal_position, 3)\n",
    "\n",
    "true_reward_param = np.array([1, 0.1, 0.01])\n",
    "\n",
    "# initialize environment\n",
    "env = Env1(visualize=True)\n",
    "\n",
    "demonstrations, xi_star, trajectory_space, f_star = human_demo_2(env, xi0, true_reward_param , n_samples=num_generated_demos, n_demos=num_demonstrations)## this the problem, I should fix the trajectories before the loop\n",
    "#env.play_traj(xi_star, T=2.0)"
   ]
  },
  {
   "cell_type": "code",
   "execution_count": null,
   "metadata": {},
   "outputs": [],
   "source": []
  }
 ],
 "metadata": {
  "kernelspec": {
   "display_name": "Python 3",
   "language": "python",
   "name": "python3"
  },
  "language_info": {
   "codemirror_mode": {
    "name": "ipython",
    "version": 3
   },
   "file_extension": ".py",
   "mimetype": "text/x-python",
   "name": "python",
   "nbconvert_exporter": "python",
   "pygments_lexer": "ipython3",
   "version": "3.9.19"
  }
 },
 "nbformat": 4,
 "nbformat_minor": 2
}
