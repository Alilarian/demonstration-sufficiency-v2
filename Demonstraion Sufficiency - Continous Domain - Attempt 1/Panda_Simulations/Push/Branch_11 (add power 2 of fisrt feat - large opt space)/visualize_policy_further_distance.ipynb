{
 "cells": [
  {
   "cell_type": "markdown",
   "metadata": {},
   "source": [
    "## MEAN Policy: reward is the mean of the mcmc samples"
   ]
  },
  {
   "cell_type": "code",
   "execution_count": 1,
   "metadata": {},
   "outputs": [
    {
     "name": "stderr",
     "output_type": "stream",
     "text": [
      "pybullet build time: Nov 28 2023 23:52:03\n"
     ]
    }
   ],
   "source": [
    "import numpy as np\n",
    "from env_1 import Env1\n",
    "#from algos import *\n",
    "import math\n",
    "from scipy.stats import norm\n",
    "\n",
    "#np.random.seed(42)"
   ]
  },
  {
   "cell_type": "code",
   "execution_count": 2,
   "metadata": {},
   "outputs": [],
   "source": [
    "mean_trajs = np.load('mean_trajectories.npy')\n",
    "optimal_traj = np.load('optimal_trajectory.npy')"
   ]
  },
  {
   "cell_type": "code",
   "execution_count": null,
   "metadata": {},
   "outputs": [],
   "source": []
  },
  {
   "cell_type": "code",
   "execution_count": 3,
   "metadata": {},
   "outputs": [
    {
     "name": "stdout",
     "output_type": "stream",
     "text": [
      "startThreads creating 1 threads.\n",
      "starting thread 0\n",
      "started thread 0 \n",
      "argc=2\n",
      "argv[0] = --unused\n",
      "argv[1] = --start_demo_name=Physics Server\n",
      "ExampleBrowserThreadFunc started\n",
      "X11 functions dynamically loaded using dlopen/dlsym OK!\n",
      "X11 functions dynamically loaded using dlopen/dlsym OK!\n",
      "Creating context\n",
      "Created GL 3.3 context\n",
      "Direct GLX rendering context obtained\n",
      "Making context current\n",
      "GL_VENDOR=NVIDIA Corporation\n",
      "GL_RENDERER=NVIDIA GeForce RTX 4090/PCIe/SSE2\n",
      "GL_VERSION=3.3.0 NVIDIA 560.35.03\n",
      "GL_SHADING_LANGUAGE_VERSION=3.30 NVIDIA via Cg compiler\n",
      "pthread_getconcurrency()=0\n",
      "Version = 3.3.0 NVIDIA 560.35.03\n",
      "Vendor = NVIDIA Corporation\n",
      "Renderer = NVIDIA GeForce RTX 4090/PCIe/SSE2\n",
      "b3Printf: Selected demo: Physics Server\n",
      "startThreads creating 1 threads.\n",
      "starting thread 0\n",
      "started thread 0 \n",
      "MotionThreadFunc thread started\n",
      "ven = NVIDIA Corporation\n",
      "ven = NVIDIA Corporation\n",
      "[ 0.52925421 -0.95781944  0.28011002]\n"
     ]
    }
   ],
   "source": [
    "env = Env1(visualize=True)\n",
    "print(env.feature_count(mean_trajs[3], [0, 255, 0], T=2.0))"
   ]
  },
  {
   "cell_type": "code",
   "execution_count": 4,
   "metadata": {},
   "outputs": [
    {
     "data": {
      "text/plain": [
       "0.4306711657999999"
      ]
     },
     "execution_count": 4,
     "metadata": {},
     "output_type": "execute_result"
    }
   ],
   "source": [
    "env.reward([ 0.52925421, -0.95781944,  0.28011002], [1, 0.1, -0.01])"
   ]
  },
  {
   "cell_type": "code",
   "execution_count": 7,
   "metadata": {},
   "outputs": [
    {
     "name": "stdout",
     "output_type": "stream",
     "text": [
      "[ 3.23399574 -0.86196891 10.45872845]\n"
     ]
    }
   ],
   "source": [
    "print(env.feature_count(optimal_traj, [0, 255, 0], T=2.0))"
   ]
  },
  {
   "cell_type": "code",
   "execution_count": 8,
   "metadata": {},
   "outputs": [
    {
     "data": {
      "text/plain": [
       "3.0432115645"
      ]
     },
     "execution_count": 8,
     "metadata": {},
     "output_type": "execute_result"
    }
   ],
   "source": [
    "env.reward([ 3.23399574, -0.86196891, 10.45872845], [1, 0.1, -0.01])"
   ]
  },
  {
   "cell_type": "code",
   "execution_count": 9,
   "metadata": {},
   "outputs": [
    {
     "data": {
      "text/plain": [
       "1.30627019935"
      ]
     },
     "execution_count": 9,
     "metadata": {},
     "output_type": "execute_result"
    }
   ],
   "source": [
    "(3.0432115645 - 0.4306711657999999)/2"
   ]
  },
  {
   "cell_type": "code",
   "execution_count": 10,
   "metadata": {},
   "outputs": [
    {
     "name": "stdout",
     "output_type": "stream",
     "text": [
      "[ 3.23399574 -0.86196891 10.45872845]\n"
     ]
    }
   ],
   "source": [
    "print(env.feature_count(mean_trajs[13], [0, 255, 0], T=2.0))"
   ]
  },
  {
   "cell_type": "code",
   "execution_count": 11,
   "metadata": {},
   "outputs": [
    {
     "data": {
      "text/plain": [
       "3.0432115645"
      ]
     },
     "execution_count": 11,
     "metadata": {},
     "output_type": "execute_result"
    }
   ],
   "source": [
    "env.reward([3.23399574, -0.86196891, 10.45872845], [1, 0.1, -0.01])"
   ]
  },
  {
   "cell_type": "code",
   "execution_count": 12,
   "metadata": {},
   "outputs": [
    {
     "data": {
      "text/plain": [
       "array([[ 0.3       , -0.3       ,  0.15      ],\n",
       "       [ 0.62566216,  0.46812475,  0.5409154 ],\n",
       "       [ 0.6       ,  0.5       ,  0.3       ]])"
      ]
     },
     "execution_count": 12,
     "metadata": {},
     "output_type": "execute_result"
    }
   ],
   "source": [
    "(mean_trajs[13] + mean_trajs[3])/2"
   ]
  },
  {
   "cell_type": "code",
   "execution_count": 24,
   "metadata": {},
   "outputs": [
    {
     "name": "stdout",
     "output_type": "stream",
     "text": [
      "[ 0.50921415 -0.89276971  0.25929906]\n"
     ]
    }
   ],
   "source": [
    "print(env.feature_count((mean_trajs[23]+mean_trajs[13] + mean_trajs[3])/3, [0, 255, 0], T=2.0))"
   ]
  },
  {
   "cell_type": "code",
   "execution_count": 25,
   "metadata": {},
   "outputs": [
    {
     "data": {
      "text/plain": [
       "0.41734418840000004"
      ]
     },
     "execution_count": 25,
     "metadata": {},
     "output_type": "execute_result"
    }
   ],
   "source": [
    "env.reward([ 0.50921415, -0.89276971,  0.25929906], [1, 0.1, -0.01])"
   ]
  },
  {
   "cell_type": "code",
   "execution_count": 28,
   "metadata": {},
   "outputs": [
    {
     "data": {
      "text/plain": [
       "0.8752891253666667"
      ]
     },
     "execution_count": 28,
     "metadata": {},
     "output_type": "execute_result"
    }
   ],
   "source": [
    "(3.0432115645 - 0.41734418840000004)/3"
   ]
  },
  {
   "cell_type": "code",
   "execution_count": 29,
   "metadata": {},
   "outputs": [
    {
     "name": "stdout",
     "output_type": "stream",
     "text": [
      "[ 0.52925421 -0.95781944  0.28011002]\n",
      "[ 3.23399574 -0.86196891 10.45872845]\n",
      "[ 3.23399574 -0.86196891 10.45872845]\n"
     ]
    }
   ],
   "source": [
    "print(env.feature_count(mean_trajs[3], [0, 255, 0], T=2.0))\n",
    "print(env.feature_count(mean_trajs[13], [0, 255, 0], T=2.0))\n",
    "print(env.feature_count(mean_trajs[23], [0, 255, 0], T=2.0))"
   ]
  },
  {
   "cell_type": "code",
   "execution_count": 37,
   "metadata": {},
   "outputs": [
    {
     "name": "stdout",
     "output_type": "stream",
     "text": [
      "[ 3.23399574 -0.86196891 10.45872845]\n"
     ]
    }
   ],
   "source": [
    "print(env.feature_count(mean_trajs[33], [0, 255, 0], T=2.0))"
   ]
  },
  {
   "cell_type": "code",
   "execution_count": 30,
   "metadata": {},
   "outputs": [
    {
     "name": "stdout",
     "output_type": "stream",
     "text": [
      "0.4306711657999999\n",
      "3.0432115645\n",
      "3.0432115645\n"
     ]
    }
   ],
   "source": [
    "print(env.reward([ 0.52925421, -0.95781944,  0.28011002], [1, 0.1, -0.01]))\n",
    "print(env.reward([ 3.23399574, -0.86196891, 10.45872845], [1, 0.1, -0.01]))\n",
    "print(env.reward([ 3.23399574, -0.86196891, 10.45872845], [1, 0.1, -0.01]))\n",
    "print(env.reward([ 3.23399574, -0.86196891, 10.45872845], [1, 0.1, -0.01]))"
   ]
  },
  {
   "cell_type": "code",
   "execution_count": 38,
   "metadata": {},
   "outputs": [
    {
     "data": {
      "text/plain": [
       "0.3265675498375"
      ]
     },
     "execution_count": 38,
     "metadata": {},
     "output_type": "execute_result"
    },
    {
     "ename": "",
     "evalue": "",
     "output_type": "error",
     "traceback": [
      "\u001b[1;31mThe Kernel crashed while executing code in the current cell or a previous cell. \n",
      "\u001b[1;31mPlease review the code in the cell(s) to identify a possible cause of the failure. \n",
      "\u001b[1;31mClick <a href='https://aka.ms/vscodeJupyterKernelCrash'>here</a> for more info. \n",
      "\u001b[1;31mView Jupyter <a href='command:jupyter.viewOutput'>log</a> for further details."
     ]
    }
   ],
   "source": [
    "(3.0432115645 - 0.4306711657999999)/8"
   ]
  },
  {
   "cell_type": "code",
   "execution_count": null,
   "metadata": {},
   "outputs": [],
   "source": []
  },
  {
   "cell_type": "code",
   "execution_count": 34,
   "metadata": {},
   "outputs": [
    {
     "data": {
      "text/plain": [
       "0.4354233997833334"
      ]
     },
     "execution_count": 34,
     "metadata": {},
     "output_type": "execute_result"
    }
   ],
   "source": [
    "1.30627019935/3"
   ]
  },
  {
   "cell_type": "code",
   "execution_count": null,
   "metadata": {},
   "outputs": [],
   "source": [
    "traj_avg = 0\n",
    "for i in range(0,mean_trajs.shape[0], 10):\n",
    "    traj_avg += mean_trajs[i:i+10]"
   ]
  },
  {
   "cell_type": "code",
   "execution_count": null,
   "metadata": {},
   "outputs": [],
   "source": [
    "traj_avg = traj_avg/261"
   ]
  },
  {
   "cell_type": "code",
   "execution_count": null,
   "metadata": {},
   "outputs": [],
   "source": [
    "traj_avg"
   ]
  },
  {
   "cell_type": "code",
   "execution_count": null,
   "metadata": {},
   "outputs": [],
   "source": [
    "traj_1 = traj_avg[0]\n",
    "\n",
    "traj_9 = traj_avg[9]\n",
    "\n",
    "# initialize environment\n",
    "env = Env1(visualize=True)\n",
    "print(env.feature_count(traj_1, [255, 0, 0], T=2.0))\n",
    "print(env.feature_count(traj_9, [0, 255, 0], T=2.0))\n",
    "print(env.feature_count(optimal_traj, [0, 0, 0], T=2.0))"
   ]
  },
  {
   "cell_type": "code",
   "execution_count": null,
   "metadata": {},
   "outputs": [],
   "source": [
    "[0.68794754 -0.8227066   0.47327181]\n",
    "[3.23399574 -0.86196891 10.45872845]"
   ]
  },
  {
   "cell_type": "code",
   "execution_count": null,
   "metadata": {},
   "outputs": [],
   "source": [
    "env.reward([0.40366696, -0.72697705,  0.16294701], [1, 0.1, -0.01])"
   ]
  },
  {
   "cell_type": "code",
   "execution_count": null,
   "metadata": {},
   "outputs": [],
   "source": [
    "env.reward([3.23399574, -0.86196891, 10.45872845], [1, 0.1, -0.01])"
   ]
  },
  {
   "cell_type": "code",
   "execution_count": null,
   "metadata": {},
   "outputs": [],
   "source": [
    "(3.0432115645 - 0.32933978490000004)/2"
   ]
  },
  {
   "cell_type": "markdown",
   "metadata": {},
   "source": [
    "## MAP Policy"
   ]
  },
  {
   "cell_type": "code",
   "execution_count": null,
   "metadata": {},
   "outputs": [],
   "source": [
    "import numpy as np\n",
    "from env_1 import Env1\n",
    "#from algos import *\n",
    "import math\n",
    "from scipy.stats import norm\n",
    "\n",
    "map_trajs = np.load('map_trajectories_11.1.npy')\n",
    "optimal_traj = np.load('optimal_trajectory.11.1.npy')"
   ]
  },
  {
   "cell_type": "code",
   "execution_count": null,
   "metadata": {},
   "outputs": [],
   "source": [
    "print(len(map_trajs))"
   ]
  },
  {
   "cell_type": "code",
   "execution_count": null,
   "metadata": {},
   "outputs": [],
   "source": [
    "traj_avg = 0\n",
    "for i in range(0,map_trajs.shape[0], 10):\n",
    "    traj_avg += map_trajs[i:i+10]\n",
    "final_trajs = traj_avg/261"
   ]
  },
  {
   "cell_type": "code",
   "execution_count": null,
   "metadata": {},
   "outputs": [],
   "source": [
    "traj_1 = final_trajs[0]\n",
    "\n",
    "traj_9 = final_trajs[9]\n",
    "\n",
    "# initialize environment\n",
    "env = Env1(visualize=True)\n",
    "print(env.feature_count(traj_1, [255, 0, 0], T=2.0))\n",
    "print(env.feature_count(traj_9, [0, 255, 0], T=2.0))\n",
    "print(env.feature_count(optimal_traj, [0, 0, 0], T=2.0))"
   ]
  },
  {
   "cell_type": "code",
   "execution_count": null,
   "metadata": {},
   "outputs": [],
   "source": []
  }
 ],
 "metadata": {
  "kernelspec": {
   "display_name": "Python 3",
   "language": "python",
   "name": "python3"
  },
  "language_info": {
   "codemirror_mode": {
    "name": "ipython",
    "version": 3
   },
   "file_extension": ".py",
   "mimetype": "text/x-python",
   "name": "python",
   "nbconvert_exporter": "python",
   "pygments_lexer": "ipython3",
   "version": "3.9.19"
  }
 },
 "nbformat": 4,
 "nbformat_minor": 2
}
