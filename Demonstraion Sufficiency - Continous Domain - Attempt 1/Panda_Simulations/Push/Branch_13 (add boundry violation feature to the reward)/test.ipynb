{
 "cells": [
  {
   "cell_type": "code",
   "execution_count": 1,
   "metadata": {},
   "outputs": [
    {
     "name": "stderr",
     "output_type": "stream",
     "text": [
      "pybullet build time: Nov 28 2023 23:52:03\n"
     ]
    }
   ],
   "source": [
    "import numpy as np\n",
    "from env_1 import Env1\n",
    "#from algos import *\n",
    "import math\n",
    "from scipy.stats import norm"
   ]
  },
  {
   "cell_type": "code",
   "execution_count": 2,
   "metadata": {},
   "outputs": [
    {
     "name": "stdout",
     "output_type": "stream",
     "text": [
      "startThreads creating 1 threads.\n",
      "starting thread 0\n",
      "started thread 0 \n",
      "argc=2\n",
      "argv[0] = --unused\n",
      "argv[1] = --start_demo_name=Physics Server\n",
      "ExampleBrowserThreadFunc started\n",
      "X11 functions dynamically loaded using dlopen/dlsym OK!\n",
      "X11 functions dynamically loaded using dlopen/dlsym OK!\n",
      "Creating context\n",
      "Created GL 3.3 context\n",
      "Direct GLX rendering context obtained\n",
      "Making context current\n",
      "GL_VENDOR=NVIDIA Corporation\n",
      "GL_RENDERER=NVIDIA GeForce RTX 4090/PCIe/SSE2\n",
      "GL_VERSION=3.3.0 NVIDIA 560.35.03\n",
      "GL_SHADING_LANGUAGE_VERSION=3.30 NVIDIA via Cg compiler\n",
      "pthread_getconcurrency()=0\n",
      "Version = 3.3.0 NVIDIA 560.35.03\n",
      "Vendor = NVIDIA Corporation\n",
      "Renderer = NVIDIA GeForce RTX 4090/PCIe/SSE2\n",
      "b3Printf: Selected demo: Physics Server\n",
      "startThreads creating 1 threads.\n",
      "starting thread 0\n",
      "started thread 0 \n",
      "MotionThreadFunc thread started\n",
      "ven = NVIDIA Corporation\n",
      "ven = NVIDIA Corporation\n",
      "((-0.251, 0.499, -0.07600000000000007), (1.251, 1.501, -0.02400000000000002))\n"
     ]
    }
   ],
   "source": [
    "env = Env1(visualize=True)"
   ]
  },
  {
   "cell_type": "code",
   "execution_count": 5,
   "metadata": {},
   "outputs": [],
   "source": [
    "import numpy as np\n",
    "\n",
    "aabb_max = (-0.251, 0.499, -0.07600000000000007)\n",
    "\n",
    "aabb_min = (1.251, 1.501, -0.02400000000000002)\n",
    "\n",
    "block_position = [0.5, 0.35]\n",
    "\n",
    "x_min, y_min = aabb_min[0], aabb_min[1]\n",
    "x_max, y_max = aabb_max[0], aabb_max[1]\n",
    "\n",
    "# Define the 4 corner points of the boundary in the X-Y plane\n",
    "points = [\n",
    "    np.array([x_min, y_max]),\n",
    "    np.array([x_max, y_max])\n",
    "]\n",
    "\n",
    "# Draw lines between the corners to create the boundary outline\n",
    "line_vec = points[1] - points[0]\n",
    "\n",
    "d = block_position - points[0]\n",
    "\n",
    "projection = np.dot(line_vec, d)\n",
    "\n",
    "projection /= np.linalg.norm(projection)\n",
    "\n",
    "\n"
   ]
  },
  {
   "cell_type": "code",
   "execution_count": null,
   "metadata": {},
   "outputs": [],
   "source": [
    "(0.5116997040999142, 0.7516231385853509, 0.21309928806373415)"
   ]
  },
  {
   "cell_type": "code",
   "execution_count": 4,
   "metadata": {},
   "outputs": [
    {
     "data": {
      "text/plain": [
       "1.0"
      ]
     },
     "execution_count": 4,
     "metadata": {},
     "output_type": "execute_result"
    }
   ],
   "source": [
    "projection"
   ]
  },
  {
   "cell_type": "code",
   "execution_count": null,
   "metadata": {},
   "outputs": [],
   "source": []
  }
 ],
 "metadata": {
  "kernelspec": {
   "display_name": "Python 3",
   "language": "python",
   "name": "python3"
  },
  "language_info": {
   "codemirror_mode": {
    "name": "ipython",
    "version": 3
   },
   "file_extension": ".py",
   "mimetype": "text/x-python",
   "name": "python",
   "nbconvert_exporter": "python",
   "pygments_lexer": "ipython3",
   "version": "3.9.19"
  }
 },
 "nbformat": 4,
 "nbformat_minor": 2
}
