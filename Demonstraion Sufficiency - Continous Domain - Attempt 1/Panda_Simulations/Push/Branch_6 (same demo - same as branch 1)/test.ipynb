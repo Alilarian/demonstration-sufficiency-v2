{
 "cells": [
  {
   "cell_type": "code",
   "execution_count": 3,
   "metadata": {},
   "outputs": [],
   "source": [
    "import numpy as np\n",
    "from env_1 import Env1\n",
    "#from algos import *\n",
    "import math\n",
    "from scipy.stats import norm\n",
    "\n",
    "#np.random.seed(42)"
   ]
  },
  {
   "cell_type": "code",
   "execution_count": 29,
   "metadata": {},
   "outputs": [],
   "source": [
    "main_trajectory_space = np.array([1,2,3,4,5,6,7,8,9,0])\n",
    "all_demonstrations = np.array([1,2,3,4,5,6,7,8,9,0])"
   ]
  },
  {
   "cell_type": "code",
   "execution_count": 30,
   "metadata": {},
   "outputs": [],
   "source": [
    "random_indices = np.random.choice(10, 5, replace=False)\n"
   ]
  },
  {
   "cell_type": "code",
   "execution_count": 31,
   "metadata": {},
   "outputs": [
    {
     "data": {
      "text/plain": [
       "array([9, 2, 1, 8, 4])"
      ]
     },
     "execution_count": 31,
     "metadata": {},
     "output_type": "execute_result"
    }
   ],
   "source": [
    "random_indices"
   ]
  },
  {
   "cell_type": "code",
   "execution_count": 32,
   "metadata": {},
   "outputs": [
    {
     "data": {
      "text/plain": [
       "array([3, 3, 3, 3, 3])"
      ]
     },
     "execution_count": 32,
     "metadata": {},
     "output_type": "execute_result"
    }
   ],
   "source": [
    "np.array([all_demonstrations[random_indices[1]]] * 5)"
   ]
  },
  {
   "cell_type": "code",
   "execution_count": 2,
   "metadata": {},
   "outputs": [],
   "source": [
    "def generate_proposal(prev_theta, step_size):\n",
    "\n",
    "    # Set the parameters for the 2D normal distribution\n",
    "\n",
    "\n",
    "    covariance = 0  # covariance between x and y\n",
    "\n",
    "\n",
    "    cov_matrix = [[step_size**2, covariance], [covariance, step_size**2]]\n",
    "\n",
    "    samples = np.random.multivariate_normal(prev_theta, cov_matrix, 1)[0]\n",
    "\n",
    "    return samples"
   ]
  },
  {
   "cell_type": "code",
   "execution_count": 3,
   "metadata": {},
   "outputs": [],
   "source": [
    "samples = []\n",
    "\n",
    "for i in range(50):\n",
    "\n",
    "    theta1 = generate_proposal([1, 0.5], step_size=0.01)\n",
    "    samples.append(theta1)"
   ]
  },
  {
   "cell_type": "code",
   "execution_count": 4,
   "metadata": {},
   "outputs": [],
   "source": [
    "import numpy as np\n",
    "import random\n",
    "\n",
    "#np.random.seed(42)\n",
    "\n",
    "def rand_demo(xi):\n",
    "    n, m = np.shape(xi)\n",
    "    xi1 = np.copy(xi)\n",
    "    for idx in range(1, n-1):\n",
    "\n",
    "        # range of workspace in each axis\n",
    "        x = np.random.uniform(0.3, 0.75)\n",
    "        y = np.random.uniform(-0.1, 0.5)\n",
    "        z = np.random.uniform(0.1, 0.6)\n",
    "        #x = np.random.uniform(0.4, 0.65)\n",
    "        #y = np.random.uniform(0, 0.3)\n",
    "        #z = np.random.uniform(0, 0.3)\n",
    "        xi1[idx, :] = np.array([x, y, z])\n",
    "    return xi1\n"
   ]
  },
  {
   "cell_type": "code",
   "execution_count": 5,
   "metadata": {},
   "outputs": [],
   "source": [
    "def human_demo_2(env, xi, theta, n_samples, n_demos=10, filter=True):\n",
    "    XI = []\n",
    "    Fs = []\n",
    "    Rs = []\n",
    "    \n",
    "    best_fs = None\n",
    "    best_xi = None\n",
    "    max_reward = np.NINF\n",
    "    for idx in range(n_samples):\n",
    "        xi1 = rand_demo(xi)\n",
    "        \n",
    "        f = env.feature_count(xi1)\n",
    "\n",
    "        if (np.abs(f[0])/np.abs(f[1]) > 50) or (np.abs(f[1])/np.abs(f[0]) > 50):\n",
    "            print(\"Bad demo: \", f)\n",
    "            continue\n",
    "        \n",
    "        else:\n",
    "            print(\"Good demo: \", f)\n",
    "            R = env.reward(f, theta)\n",
    "\n",
    "            if R > max_reward:\n",
    "                max_reward = R\n",
    "                best_fs = f\n",
    "                best_xi = xi1\n",
    "\n",
    "            Rs.append(R)\n",
    "            Fs.append(f)\n",
    "            XI.append(xi1)\n",
    "\n",
    "    # Convert lists to numpy arrays\n",
    "    Rs = np.array(Rs)\n",
    "    XI = np.array(XI)\n",
    "    Fs = np.array(Fs)\n",
    "\n",
    "    # Get indices that would sort Rs in descending order\n",
    "    sorted_indices = np.argsort(Rs)[::-1]\n",
    "\n",
    "    # Sort XI, Fs, and Rs based on these indices\n",
    "    XI = XI[sorted_indices]\n",
    "    Fs = Fs[sorted_indices]\n",
    "    Rs = Rs[sorted_indices]\n",
    "\n",
    "    # Return the top n_demos (default is 10) elements with the highest R\n",
    "    top_XI = XI[:n_demos]\n",
    "    top_Fs = Fs[:n_demos]\n",
    "    top_Rs = Rs[:n_demos]\n",
    "\n",
    "    return top_XI, best_xi, top_Fs, best_fs\n"
   ]
  },
  {
   "cell_type": "code",
   "execution_count": 6,
   "metadata": {},
   "outputs": [
    {
     "name": "stdout",
     "output_type": "stream",
     "text": [
      "startThreads creating 1 threads.\n",
      "starting thread 0\n",
      "started thread 0 \n",
      "argc=2\n",
      "argv[0] = --unused\n",
      "argv[1] = --start_demo_name=Physics Server\n",
      "ExampleBrowserThreadFunc started\n",
      "X11 functions dynamically loaded using dlopen/dlsym OK!\n",
      "X11 functions dynamically loaded using dlopen/dlsym OK!\n",
      "Creating context\n",
      "Created GL 3.3 context\n",
      "Direct GLX rendering context obtained\n",
      "Making context current\n",
      "GL_VENDOR=NVIDIA Corporation\n",
      "GL_RENDERER=NVIDIA GeForce RTX 4090/PCIe/SSE2\n",
      "GL_VERSION=3.3.0 NVIDIA 535.104.05\n",
      "GL_SHADING_LANGUAGE_VERSION=3.30 NVIDIA via Cg compiler\n",
      "pthread_getconcurrency()=0\n",
      "Version = 3.3.0 NVIDIA 535.104.05\n",
      "Vendor = NVIDIA Corporation\n",
      "Renderer = NVIDIA GeForce RTX 4090/PCIe/SSE2\n",
      "b3Printf: Selected demo: Physics Server\n",
      "startThreads creating 1 threads.\n",
      "starting thread 0\n",
      "started thread 0 \n",
      "MotionThreadFunc thread started\n",
      "ven = NVIDIA Corporation\n",
      "ven = NVIDIA Corporation\n",
      "Good demo:  [ 0.14348779 -0.64896786]\n",
      "Good demo:  [ 0.41206368 -0.5343838 ]\n",
      "Good demo:  [ 0.37264004 -0.48068856]\n",
      "Good demo:  [ 0.14616717 -0.6510822 ]\n",
      "Good demo:  [ 0.02810098 -0.52133792]\n",
      "Good demo:  [ 0.15987121 -0.22372327]\n",
      "Bad demo:  [ 1.20716778e-06 -2.81351307e-01]\n",
      "Good demo:  [ 0.19847976 -0.20175041]\n",
      "Good demo:  [ 0.21714952 -0.55634   ]\n",
      "Good demo:  [ 0.2738219  -0.49760584]\n",
      "Good demo:  [ 0.24212962 -0.7284163 ]\n",
      "Bad demo:  [ 1.11425034e-06 -3.13729145e-01]\n",
      "Good demo:  [ 0.01850292 -0.36068931]\n",
      "Bad demo:  [ 1.45659262e-06 -2.72327370e-01]\n",
      "Good demo:  [ 0.37646045 -0.51911722]\n",
      "Good demo:  [ 0.30608119 -0.72429186]\n"
     ]
    },
    {
     "ename": "",
     "evalue": "",
     "output_type": "error",
     "traceback": [
      "\u001b[1;31mThe Kernel crashed while executing code in the current cell or a previous cell. \n",
      "\u001b[1;31mPlease review the code in the cell(s) to identify a possible cause of the failure. \n",
      "\u001b[1;31mClick <a href='https://aka.ms/vscodeJupyterKernelCrash'>here</a> for more info. \n",
      "\u001b[1;31mView Jupyter <a href='command:jupyter.viewOutput'>log</a> for further details."
     ]
    }
   ],
   "source": [
    "num_generated_demos = 100\n",
    "\n",
    "num_demonstrations = 10\n",
    "beta = 0.1\n",
    "\n",
    "#start_position = np.array([0.4, 0.0, 0.5])\n",
    "start_position = np.array([0.4, 0.0, 0.25])\n",
    "goal_position = np.array([0.75, 0.0, 0.1])\n",
    "#goal_position = np.array([0.75, 0.0, 0.3])\n",
    "xi0 = np.linspace(start_position, goal_position, 4)\n",
    "\n",
    "\n",
    "\n",
    "# initialize environment\n",
    "env = Env1(visualize=True)\n",
    "true_reward_param = np.array([1, 0.1])\n",
    "\n",
    "\n",
    "demonstrations, xi_star, trajectory_space, f_star = human_demo_2(env, xi0, true_reward_param , n_samples=num_generated_demos, n_demos=num_demonstrations)## this the problem, I should fix the trajectories before the loop\n",
    "\n",
    "#env.play_traj(xi_star, T=2.0)"
   ]
  },
  {
   "cell_type": "code",
   "execution_count": null,
   "metadata": {},
   "outputs": [],
   "source": []
  }
 ],
 "metadata": {
  "kernelspec": {
   "display_name": "Python 3",
   "language": "python",
   "name": "python3"
  },
  "language_info": {
   "codemirror_mode": {
    "name": "ipython",
    "version": 3
   },
   "file_extension": ".py",
   "mimetype": "text/x-python",
   "name": "python",
   "nbconvert_exporter": "python",
   "pygments_lexer": "ipython3",
   "version": "3.9.19"
  }
 },
 "nbformat": 4,
 "nbformat_minor": 2
}
