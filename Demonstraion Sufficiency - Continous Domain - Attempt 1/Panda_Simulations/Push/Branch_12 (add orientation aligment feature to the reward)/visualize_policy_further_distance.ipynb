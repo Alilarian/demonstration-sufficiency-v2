{
 "cells": [
  {
   "cell_type": "code",
   "execution_count": null,
   "metadata": {},
   "outputs": [],
   "source": [
    "import numpy as np\n",
    "from env_1 import Env1\n",
    "from algos import *\n",
    "import math\n",
    "from scipy.stats import norm\n",
    "\n",
    "#np.random.seed(42)"
   ]
  },
  {
   "cell_type": "code",
   "execution_count": null,
   "metadata": {},
   "outputs": [],
   "source": [
    "env = Env1(visualize=False)\n",
    "start_position = np.array([0.4, 0.0, 0.25])\n",
    "goal_position = np.array([0.75, 0.0, 0.1])\n",
    "xi0 = np.linspace(start_position, goal_position, 50)\n",
    "\n",
    "\n",
    "true_reward_param = np.array([0.92, 0.11, -0.34])\n",
    "\n",
    "demonstration_space, xi_star, trajectory_space, f_star = human_demo_2(env, xi0, true_reward_param,\\\n",
    "                                                                           n_samples=100000, n_demos=1000)\n",
    "\n",
    "np.save('50_waypoint_demonstration_space', demonstration_space)\n",
    "np.save('50_waypoint_xi_star', xi_star)\n",
    "np.save('50_waypoint_trajectory_space', trajectory_space)\n",
    "np.save('50_waypoint_f_star', f_star)"
   ]
  },
  {
   "cell_type": "code",
   "execution_count": null,
   "metadata": {},
   "outputs": [],
   "source": [
    "\n",
    "env = Env1(visualize=True)\n",
    "#print(env.feature_count(traj_1, [255, 0, 0], T=2.0))\n",
    "print(env.feature_count(np.load('5_waypoint_traj.npy'), [0, 255, 0], T=2.0))\n"
   ]
  },
  {
   "cell_type": "code",
   "execution_count": null,
   "metadata": {},
   "outputs": [],
   "source": []
  },
  {
   "cell_type": "code",
   "execution_count": null,
   "metadata": {},
   "outputs": [],
   "source": []
  },
  {
   "cell_type": "code",
   "execution_count": 2,
   "metadata": {},
   "outputs": [],
   "source": [
    "mean_trajs = np.load('map_trajectories.npy')\n",
    "#optimal_traj = np.load('best_traj_B12.1.1.npy')"
   ]
  },
  {
   "cell_type": "code",
   "execution_count": null,
   "metadata": {},
   "outputs": [],
   "source": [
    "len(mean_trajs)"
   ]
  },
  {
   "cell_type": "code",
   "execution_count": null,
   "metadata": {},
   "outputs": [],
   "source": [
    "#traj_1 = optimal_traj\n",
    "\n",
    "traj_9 = mean_trajs[0]\n",
    "\n",
    "# initialize environment\n",
    "env = Env1(visualize=True)\n",
    "#print(env.feature_count(traj_1, [255, 0, 0], T=2.0))\n",
    "print(env.feature_count(traj_9, [0, 255, 0], T=2.0))\n"
   ]
  },
  {
   "cell_type": "code",
   "execution_count": null,
   "metadata": {},
   "outputs": [],
   "source": [
    "[0.68794754 -0.8227066   0.47327181]\n",
    "[3.23399574 -0.86196891 10.45872845]"
   ]
  },
  {
   "cell_type": "code",
   "execution_count": null,
   "metadata": {},
   "outputs": [],
   "source": [
    "env.reward([0.40366696, -0.72697705,  0.16294701], [1, 0.1, -0.01])"
   ]
  },
  {
   "cell_type": "code",
   "execution_count": null,
   "metadata": {},
   "outputs": [],
   "source": [
    "env.reward([3.23399574, -0.86196891, 10.45872845], [1, 0.1, -0.01])"
   ]
  },
  {
   "cell_type": "code",
   "execution_count": null,
   "metadata": {},
   "outputs": [],
   "source": [
    "(3.0432115645 - 0.32933978490000004)/2"
   ]
  },
  {
   "cell_type": "markdown",
   "metadata": {},
   "source": [
    "## MAP Policy"
   ]
  },
  {
   "cell_type": "code",
   "execution_count": null,
   "metadata": {},
   "outputs": [],
   "source": [
    "import numpy as np\n",
    "from env_1 import Env1\n",
    "#from algos import *\n",
    "import math\n",
    "from scipy.stats import norm\n",
    "\n",
    "map_trajs = np.load('map_trajectories_11.1.npy')\n",
    "optimal_traj = np.load('optimal_trajectory.11.1.npy')"
   ]
  },
  {
   "cell_type": "code",
   "execution_count": null,
   "metadata": {},
   "outputs": [],
   "source": [
    "print(len(map_trajs))"
   ]
  },
  {
   "cell_type": "code",
   "execution_count": null,
   "metadata": {},
   "outputs": [],
   "source": [
    "traj_avg = 0\n",
    "for i in range(0,map_trajs.shape[0], 10):\n",
    "    traj_avg += map_trajs[i:i+10]\n",
    "final_trajs = traj_avg/261"
   ]
  },
  {
   "cell_type": "code",
   "execution_count": null,
   "metadata": {},
   "outputs": [],
   "source": [
    "traj_1 = final_trajs[0]\n",
    "\n",
    "traj_9 = final_trajs[9]\n",
    "\n",
    "# initialize environment\n",
    "env = Env1(visualize=True)\n",
    "print(env.feature_count(traj_1, [255, 0, 0], T=2.0))\n",
    "print(env.feature_count(traj_9, [0, 255, 0], T=2.0))\n",
    "print(env.feature_count(optimal_traj, [0, 0, 0], T=2.0))"
   ]
  },
  {
   "cell_type": "code",
   "execution_count": null,
   "metadata": {},
   "outputs": [],
   "source": []
  }
 ],
 "metadata": {
  "kernelspec": {
   "display_name": "Python 3",
   "language": "python",
   "name": "python3"
  },
  "language_info": {
   "codemirror_mode": {
    "name": "ipython",
    "version": 3
   },
   "file_extension": ".py",
   "mimetype": "text/x-python",
   "name": "python",
   "nbconvert_exporter": "python",
   "pygments_lexer": "ipython3",
   "version": "3.9.19"
  }
 },
 "nbformat": 4,
 "nbformat_minor": 2
}
